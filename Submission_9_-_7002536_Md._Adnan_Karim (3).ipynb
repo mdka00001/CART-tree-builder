{
 "cells": [
  {
   "cell_type": "markdown",
   "metadata": {},
   "source": [
    "# This is the python template for Assignment 04.  \n",
    "- You must use this template.  \n",
    "- You must not change any signatures of the methods, only edit the sections indicated with \"Write your code here.\"  \n",
    "- The return of every function has to be in the right format, otherwise this is a desk reject.  \n",
    "- Plagiarism leads to failing the assignment!  \n",
    "- We will terminate the script after 10 min, try to use efficient algorithms."
   ]
  },
  {
   "cell_type": "code",
   "execution_count": 35,
   "metadata": {},
   "outputs": [],
   "source": [
    "import pandas as pd"
   ]
  },
  {
   "cell_type": "code",
   "execution_count": 36,
   "metadata": {},
   "outputs": [],
   "source": [
    "def get_name():\n",
    "    name = \"Md Adnan Karim\"\n",
    "    return name\n",
    "def get_matriculationnumber():\n",
    "    matric = 7002536\n",
    "    return matric"
   ]
  },
  {
   "cell_type": "markdown",
   "metadata": {},
   "source": [
    "## Useful information:\n",
    "\n",
    "The structure of a CART is a dict. Use the same names as shown in the example, using other names makes your format invalid and leads to a desk reject."
   ]
  },
  {
   "cell_type": "code",
   "execution_count": 37,
   "metadata": {},
   "outputs": [],
   "source": [
    "cart = { \"name\":\"X\", \"mean\":456, \"split_by_feature\": \"aes\", \"error_of_split\": 0.0,\n",
    "        \"successor_left\": { \"name\":\"XL\", \"mean\":1234, \"split_by_feature\": None, \"error_of_split\":None,\n",
    "                           \"successor_left\":None,\n",
    "                           \"successor_right\":None\n",
    "                          },\n",
    "        \"successor_right\":{ \"name\":\"XR\", \"mean\":258, \"split_by_feature\": None,\"error_of_split\":None,\n",
    "                           \"successor_left\":None,\n",
    "                           \"successor_right\":None\n",
    "                          }\n",
    "       }"
   ]
  },
  {
   "cell_type": "markdown",
   "metadata": {},
   "source": [
    "The names of the features must be used as defined in this list, using other names makes your format invalid and leads to a desk reject."
   ]
  },
  {
   "cell_type": "code",
   "execution_count": 38,
   "metadata": {},
   "outputs": [],
   "source": [
    "features = [\"secompress\", \"encryption\", \"aes\", \"blowfish\", \"algorithm\", \"rar\", \"zip\", \"signature\",\n",
    "            \"timestamp\", \"segmentation\", \"onehundredmb\", \"onegb\"]"
   ]
  },
  {
   "cell_type": "markdown",
   "metadata": {},
   "source": [
    "# Task 1: Create a CART"
   ]
  },
  {
   "cell_type": "code",
   "execution_count": 39,
   "metadata": {},
   "outputs": [],
   "source": [
    "def tree_builder(sample_set_csv, node = \"X\", mean = None):\n",
    "\n",
    "    while not (sample_set_csv.shape[0] == 0 or len(sample_set_csv.iloc[:,-1].unique()) == 1):\n",
    "              \n",
    "    \n",
    "        l, r, l_sqr, r_sqr, summed_sqr, mean = get_sample_mean(sample_set_csv)\n",
    "        #print(sum_sqr)\n",
    "        \n",
    "        #get min value and key from summed sqr dict\n",
    "        value = min(summed_sqr.values())\n",
    "        key = [k for k, v in summed_sqr.items() if v == value]\n",
    "    \n",
    "        subset_left = sample_set_csv[sample_set_csv[key[0]] == 1]\n",
    "        subset_right = sample_set_csv[sample_set_csv[key[0]] == 0]\n",
    "        successor_left = tree_builder(subset_left, node + \"L\", mean)\n",
    "        successor_right = tree_builder(subset_right, node + \"R\", mean)\n",
    "\n",
    "        \n",
    "        return {\"name\":node, \"mean\":mean, \"split_by_feature\": key[0], \"error_of_split\":value,\n",
    "                \"successor_left\": successor_left, \"successor_right\": successor_right}\n",
    "    \n",
    "    return {\"name\":node, \"mean\":round(sample_set_csv.iloc[:, -1].mean(), 2), \"split_by_feature\": None, \"error_of_split\":None,\n",
    "            \"successor_left\": None, \"successor_right\": None}\n",
    "\n",
    "\n",
    "#print(feat, last_col, first_col)\n",
    "def get_sample_mean(x):\n",
    "    feat=x.columns\n",
    "    feat = list(feat)\n",
    "    last_col=feat[-1]\n",
    "    first_col=feat[0]\n",
    "    feat.remove(last_col)\n",
    "    feat.remove(first_col)\n",
    "    l_mean={}\n",
    "    r_mean={}\n",
    "    l_sqr={}\n",
    "    r_sqr={}\n",
    "    summed_sqr={}\n",
    "\n",
    "    mean = round(sum(x.iloc[:, -1])/len(x.iloc[:, -1]), 2)\n",
    "\n",
    "    for i in feat:\n",
    "        if x[i].eq(1).all():\n",
    "            continue\n",
    "        elif x[i].eq(0).all():\n",
    "            continue\n",
    "        else:\n",
    "            #calculate L and R\n",
    "            l_mean[i] = sum(x.loc[x[i] == 1, last_col])/x[i].value_counts()[1]\n",
    "            r_mean[i] = sum(x.loc[x[i] == 0, last_col])/x[i].value_counts()[0]\n",
    "            \n",
    "            #calculate square loss L and R\n",
    "        for key, value in l_mean.items():\n",
    "            if key==i:\n",
    "                l_sqr[i]=sum((x.loc[x[i] == 1, last_col]-value)**2)\n",
    "\n",
    "        for key, value in r_mean.items():\n",
    "            if key==i:\n",
    "                r_sqr[i]=sum((x.loc[x[i] == 0, last_col]-value)**2)\n",
    "\n",
    "    for key in l_sqr:\n",
    "        if key in r_sqr:\n",
    "            summed_sqr[key]=round(l_sqr[key] + r_sqr[key], 2)\n",
    "    \n",
    "    summed_sqr=dict(sorted(summed_sqr.items()))\n",
    "    return [l_mean, r_mean, l_sqr, r_sqr,summed_sqr,mean]"
   ]
  },
  {
   "cell_type": "code",
   "execution_count": 40,
   "metadata": {},
   "outputs": [],
   "source": [
    "def get_cart(sample_set_csv):\n",
    "    # The sample_set_csv is a file path to a csv data, this can be imported into a dataframe\n",
    "    df = pd.read_csv(sample_set_csv)\n",
    "    # TODO: Write your code here. And change the return.\n",
    "    func = tree_builder(df)\n",
    "    #print(func)\n",
    "    return func"
   ]
  },
  {
   "cell_type": "markdown",
   "metadata": {},
   "source": [
    "# Task 2a: Highest influencing feature"
   ]
  },
  {
   "cell_type": "code",
   "execution_count": 41,
   "metadata": {},
   "outputs": [],
   "source": [
    "# Write your helper functions here, if needed"
   ]
  },
  {
   "cell_type": "code",
   "execution_count": 42,
   "metadata": {},
   "outputs": [],
   "source": [
    "def get_highest_influence_feature(cart):\n",
    "    # TODO: Write your code here. And change the return.\n",
    "    return cart.get(\"split_by_feature\")"
   ]
  },
  {
   "cell_type": "markdown",
   "metadata": {},
   "source": [
    "# Task 2b: Calculate the error rate"
   ]
  },
  {
   "cell_type": "code",
   "execution_count": 44,
   "metadata": {},
   "outputs": [],
   "source": [
    "# Write your helper functions here, if needed\n",
    "def get_tree_mean(cart, lst):\n",
    "    for i in cart.keys():\n",
    "        if i==\"mean\":\n",
    "            if cart.get(i)!=None:\n",
    "                lst.append(cart.get(i))\n",
    "        elif i==\"successor_left\" and isinstance(cart.get(i), dict):\n",
    "            \n",
    "            get_tree_mean(cart.get(i),lst)\n",
    "        elif i == \"successor_right\" and isinstance(cart.get(i), dict):\n",
    "            \n",
    "            get_tree_mean(cart.get(i),lst)"
   ]
  },
  {
   "cell_type": "code",
   "execution_count": 45,
   "metadata": {},
   "outputs": [],
   "source": [
    "def get_error_rate(cart, sample_set_csv):\n",
    "    # The sample_set_csv is a file path to a csv data, this can be imported into a dataframe\n",
    "    df = pd.read_csv(sample_set_csv)\n",
    "    # TODO: Write your code here. And change the return.\n",
    "    \n",
    "    tree_actual=[]\n",
    "    get_tree_mean(get_cart(sample_set_csv),tree_actual)\n",
    "    tree_predicted=[]\n",
    "    get_tree_mean(cart,tree_predicted)\n",
    "\n",
    "    tree_diff = list(abs(tree_predicted[i]-tree_actual[i]) for i in range(0,len(tree_predicted)))\n",
    "\n",
    "    return sum(tree_diff)/(len(tree_diff))"
   ]
  },
  {
   "cell_type": "markdown",
   "metadata": {},
   "source": [
    "# Task 2c: Generate optimal configuration"
   ]
  },
  {
   "cell_type": "code",
   "execution_count": 46,
   "metadata": {},
   "outputs": [],
   "source": [
    "# Write your helper functions here, if needed\n"
   ]
  },
  {
   "cell_type": "code",
   "execution_count": 47,
   "metadata": {},
   "outputs": [],
   "source": [
    "def get_optimal_configuration(cart, partial_configuration):\n",
    "\n",
    "\n",
    "    # TODO: Write your code here. And change the return.\n",
    "    for i in cart.keys():\n",
    "\n",
    "        if i==\"split_by_feature\":\n",
    "            if cart.get(i)!=None:\n",
    "                if i not in partial_configuration:\n",
    "                    if (cart.get(\"successor_left\")!=None and isinstance(cart.get(\"successor_left\"), dict)) and (cart.get(\"successor_right\")!=None and isinstance(cart.get(\"successor_right\"), dict)):\n",
    "                        #print(cart.get(\"successor_left\").get(\"mean\"))\n",
    "                        if cart.get(\"successor_left\").get(\"mean\") < cart.get(\"successor_right\").get(\"mean\"):\n",
    "                            partial_configuration.add(cart.get(i))\n",
    "                        elif cart.get(\"successor_right\").get(\"mean\") < cart.get(\"successor_left\").get(\"mean\"):\n",
    "                            if cart.get(i) == \"aes\":\n",
    "                                partial_configuration.add(\"blowfish\")\n",
    "                            elif cart.get(i) == \"blowfish\":\n",
    "                                partial_configuration.add(\"aes\")\n",
    "                            elif cart.get(i) == \"rar\":\n",
    "                                partial_configuration.add(\"zip\")\n",
    "                            elif cart.get(i) == \"zip\":\n",
    "                                partial_configuration.add(\"rar\")\n",
    "                            elif cart.get(i) == \"onehundredmb\":\n",
    "                                partial_configuration.add(\"onegb\")\n",
    "                            elif cart.get(i) == \"onegb\":\n",
    "                                partial_configuration.add(\"onehundredmb\")\n",
    "\n",
    "\n",
    "\n",
    "        elif i==\"successor_left\" and isinstance(cart.get(i), dict):\n",
    "            if cart.get(i)!=None:\n",
    "                get_optimal_configuration(cart.get(i),partial_configuration)\n",
    "\n",
    "        elif i == \"successor_right\" and isinstance(cart.get(i), dict):\n",
    "            if cart.get(i)!=None:\n",
    "                get_optimal_configuration(cart.get(i),partial_configuration)\n",
    "    \n",
    "\n",
    "    partial_configuration.add(\"algorithm\")\n",
    "    partial_configuration.add(\"secompress\")\n",
    "    return partial_configuration"
   ]
  },
  {
   "cell_type": "markdown",
   "metadata": {},
   "source": [
    "# Tests:  \n",
    "In the following cells, we provide you some test cases (but not all possible test cases!)"
   ]
  },
  {
   "cell_type": "code",
   "execution_count": 48,
   "metadata": {},
   "outputs": [
    {
     "name": "stdout",
     "output_type": "stream",
     "text": [
      "passed\n"
     ]
    }
   ],
   "source": [
    "# Task 1\n",
    "\n",
    "test_cart = {'name': 'X', 'mean': 763.2, 'split_by_feature': 'segmentation', 'error_of_split': 6.0, \n",
    "             'successor_left': \n",
    "                 {'name': 'XL', 'mean': 772.0, 'split_by_feature': 'onegb', 'error_of_split': 0.0, \n",
    "                  'successor_left': \n",
    "                      {'name': 'XLL', 'mean': 770.0, 'split_by_feature': None, 'error_of_split': None, \n",
    "                       'successor_left': None, \n",
    "                       'successor_right': None\n",
    "                      }, \n",
    "                  'successor_right': \n",
    "                      {'name': 'XLR', 'mean': 773.0, 'split_by_feature': None, 'error_of_split': None, \n",
    "                       'successor_left': None, \n",
    "                       'successor_right': None\n",
    "                      }\n",
    "                 }, \n",
    "             'successor_right': \n",
    "                 {'name': 'XR', 'mean': 750.0, 'split_by_feature': None, 'error_of_split': None, \n",
    "                  'successor_left': None, \n",
    "                  'successor_right': None}\n",
    "            }\n",
    "\n",
    "\n",
    "if get_cart(\"Performance_01.csv\") == test_cart:\n",
    "    print(\"passed\")\n",
    "else:\n",
    "    print(\"failed\")"
   ]
  },
  {
   "cell_type": "code",
   "execution_count": 49,
   "metadata": {},
   "outputs": [
    {
     "name": "stdout",
     "output_type": "stream",
     "text": [
      "passed\n"
     ]
    }
   ],
   "source": [
    "# Task 2b\n",
    "if get_error_rate(test_cart, \"Performance_02b.csv\") == 5:\n",
    "    print(\"passed\")\n",
    "else:\n",
    "    print(\"failed\")"
   ]
  },
  {
   "cell_type": "code",
   "execution_count": 50,
   "metadata": {},
   "outputs": [
    {
     "name": "stdout",
     "output_type": "stream",
     "text": [
      "passed\n"
     ]
    }
   ],
   "source": [
    "# Task 2c\n",
    "test_cart_v2 = {'name': 'X', 'mean': 763.2, 'split_by_feature': 'zip', 'error_of_split': 0.0, \n",
    "                 'successor_left': {'name': 'XL', 'mean': 772.0, 'split_by_feature': None, 'error_of_split': None, \n",
    "                                    'successor_left': None, \n",
    "                                    'successor_right': None}, \n",
    "                 'successor_right': {'name': 'XR', 'mean': 750.0, 'split_by_feature': None, 'error_of_split': None, \n",
    "                                     'successor_left': None, \n",
    "                                     'successor_right': None}\n",
    "                }\n",
    "\n",
    "optimal_config = get_optimal_configuration(test_cart_v2, {\"secompress\", \"encryption\", \"aes\", \"algorithm\", \"signature\",\n",
    "                                                        \"timestamp\", \"segmentation\", \"onehundredmb\"})\n",
    "reference = {'aes', 'algorithm', 'encryption', 'onehundredmb', 'rar', 'secompress', 'segmentation', 'signature',\n",
    "            'timestamp'}\n",
    "\n",
    "#print(optimal_config)\n",
    "if optimal_config == reference:\n",
    "    print(\"passed\")\n",
    "else:\n",
    "    print(\"failed\")"
   ]
  }
 ],
 "metadata": {
  "kernelspec": {
   "display_name": "mdanalysis",
   "language": "python",
   "name": "mdanalysis"
  },
  "language_info": {
   "codemirror_mode": {
    "name": "ipython",
    "version": 3
   },
   "file_extension": ".py",
   "mimetype": "text/x-python",
   "name": "python",
   "nbconvert_exporter": "python",
   "pygments_lexer": "ipython3",
   "version": "3.10.8"
  },
  "vscode": {
   "interpreter": {
    "hash": "f6246b25e200e4c5124e3e61789ac81350562f0761bbcf92ad9e48654207659c"
   }
  }
 },
 "nbformat": 4,
 "nbformat_minor": 4
}
